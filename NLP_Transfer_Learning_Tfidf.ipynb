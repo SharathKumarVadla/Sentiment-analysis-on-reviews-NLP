{
 "cells": [
  {
   "cell_type": "code",
   "execution_count": 1,
   "metadata": {
    "id": "NzjzKEAlRtFa"
   },
   "outputs": [],
   "source": [
    "import tensorflow as tf\n",
    "from tensorflow.keras.layers import Input, Dense, Dropout\n",
    "from tensorflow.keras.models import Model\n",
    "import numpy as np\n",
    "import pandas as pd\n",
    "import matplotlib.pyplot as plt\n",
    "from sklearn.model_selection import train_test_split\n",
    "from tensorflow.keras.callbacks import ModelCheckpoint, EarlyStopping, ReduceLROnPlateau\n",
    "from tensorflow.keras.optimizers import Adam\n",
    "from tensorflow.keras.utils import to_categorical\n",
    "from sklearn.feature_extraction.text import TfidfVectorizer\n",
    "import warnings\n",
    "warnings.filterwarnings(\"ignore\")"
   ]
  },
  {
   "cell_type": "code",
   "execution_count": 2,
   "metadata": {
    "colab": {
     "base_uri": "https://localhost:8080/",
     "height": 206
    },
    "id": "PlQERb51SbO4",
    "outputId": "0c1f9f07-9409-44bb-d0d2-c29d0539f15b"
   },
   "outputs": [
    {
     "data": {
      "text/html": [
       "<div>\n",
       "<style scoped>\n",
       "    .dataframe tbody tr th:only-of-type {\n",
       "        vertical-align: middle;\n",
       "    }\n",
       "\n",
       "    .dataframe tbody tr th {\n",
       "        vertical-align: top;\n",
       "    }\n",
       "\n",
       "    .dataframe thead th {\n",
       "        text-align: right;\n",
       "    }\n",
       "</style>\n",
       "<table border=\"1\" class=\"dataframe\">\n",
       "  <thead>\n",
       "    <tr style=\"text-align: right;\">\n",
       "      <th></th>\n",
       "      <th>Text</th>\n",
       "      <th>Score</th>\n",
       "    </tr>\n",
       "  </thead>\n",
       "  <tbody>\n",
       "    <tr>\n",
       "      <th>0</th>\n",
       "      <td>bought several vitality canned dog food produc...</td>\n",
       "      <td>1</td>\n",
       "    </tr>\n",
       "    <tr>\n",
       "      <th>1</th>\n",
       "      <td>product arrived labeled jumbo salted peanuts p...</td>\n",
       "      <td>0</td>\n",
       "    </tr>\n",
       "    <tr>\n",
       "      <th>2</th>\n",
       "      <td>confection around centuries light pillowy citr...</td>\n",
       "      <td>1</td>\n",
       "    </tr>\n",
       "    <tr>\n",
       "      <th>3</th>\n",
       "      <td>looking secret ingredient robitussin believe f...</td>\n",
       "      <td>0</td>\n",
       "    </tr>\n",
       "    <tr>\n",
       "      <th>4</th>\n",
       "      <td>great taffy great price wide assortment yummy ...</td>\n",
       "      <td>1</td>\n",
       "    </tr>\n",
       "  </tbody>\n",
       "</table>\n",
       "</div>"
      ],
      "text/plain": [
       "                                                Text  Score\n",
       "0  bought several vitality canned dog food produc...      1\n",
       "1  product arrived labeled jumbo salted peanuts p...      0\n",
       "2  confection around centuries light pillowy citr...      1\n",
       "3  looking secret ingredient robitussin believe f...      0\n",
       "4  great taffy great price wide assortment yummy ...      1"
      ]
     },
     "execution_count": 2,
     "metadata": {},
     "output_type": "execute_result"
    }
   ],
   "source": [
    "reviews = pd.read_csv('preprocessed.csv')\n",
    "reviews.head()"
   ]
  },
  {
   "cell_type": "code",
   "execution_count": 3,
   "metadata": {},
   "outputs": [
    {
     "data": {
      "text/plain": [
       "Text      True\n",
       "Score    False\n",
       "dtype: bool"
      ]
     },
     "execution_count": 3,
     "metadata": {},
     "output_type": "execute_result"
    }
   ],
   "source": [
    "reviews.isna().any()"
   ]
  },
  {
   "cell_type": "code",
   "execution_count": 4,
   "metadata": {},
   "outputs": [],
   "source": [
    "reviews.dropna(axis=0,inplace=True)"
   ]
  },
  {
   "cell_type": "code",
   "execution_count": 5,
   "metadata": {},
   "outputs": [
    {
     "data": {
      "text/plain": [
       "Text     False\n",
       "Score    False\n",
       "dtype: bool"
      ]
     },
     "execution_count": 5,
     "metadata": {},
     "output_type": "execute_result"
    }
   ],
   "source": [
    "reviews.isna().any()"
   ]
  },
  {
   "cell_type": "code",
   "execution_count": 6,
   "metadata": {},
   "outputs": [
    {
     "data": {
      "text/html": [
       "<div>\n",
       "<style scoped>\n",
       "    .dataframe tbody tr th:only-of-type {\n",
       "        vertical-align: middle;\n",
       "    }\n",
       "\n",
       "    .dataframe tbody tr th {\n",
       "        vertical-align: top;\n",
       "    }\n",
       "\n",
       "    .dataframe thead th {\n",
       "        text-align: right;\n",
       "    }\n",
       "</style>\n",
       "<table border=\"1\" class=\"dataframe\">\n",
       "  <thead>\n",
       "    <tr style=\"text-align: right;\">\n",
       "      <th></th>\n",
       "      <th>Text</th>\n",
       "      <th>Score</th>\n",
       "    </tr>\n",
       "  </thead>\n",
       "  <tbody>\n",
       "    <tr>\n",
       "      <th>0</th>\n",
       "      <td>tried ine beets bannans peter rabbits squash o...</td>\n",
       "      <td>1</td>\n",
       "    </tr>\n",
       "    <tr>\n",
       "      <th>1</th>\n",
       "      <td>love cake mix mixes well incredible amazon off...</td>\n",
       "      <td>1</td>\n",
       "    </tr>\n",
       "    <tr>\n",
       "      <th>2</th>\n",
       "      <td>best k cup found hands rich bold deep flavor a...</td>\n",
       "      <td>1</td>\n",
       "    </tr>\n",
       "    <tr>\n",
       "      <th>3</th>\n",
       "      <td>new favorite always fan salt vinegar honey dij...</td>\n",
       "      <td>1</td>\n",
       "    </tr>\n",
       "    <tr>\n",
       "      <th>4</th>\n",
       "      <td>product win win win healthy snack dog affordab...</td>\n",
       "      <td>1</td>\n",
       "    </tr>\n",
       "  </tbody>\n",
       "</table>\n",
       "</div>"
      ],
      "text/plain": [
       "                                                Text  Score\n",
       "0  tried ine beets bannans peter rabbits squash o...      1\n",
       "1  love cake mix mixes well incredible amazon off...      1\n",
       "2  best k cup found hands rich bold deep flavor a...      1\n",
       "3  new favorite always fan salt vinegar honey dij...      1\n",
       "4  product win win win healthy snack dog affordab...      1"
      ]
     },
     "execution_count": 6,
     "metadata": {},
     "output_type": "execute_result"
    }
   ],
   "source": [
    "reviews_sample = reviews.sample(100000,random_state=42).reset_index(drop=True)\n",
    "reviews_sample.head()"
   ]
  },
  {
   "cell_type": "code",
   "execution_count": 7,
   "metadata": {
    "colab": {
     "base_uri": "https://localhost:8080/"
    },
    "id": "fCN2aAEASdr6",
    "outputId": "633219b2-ce9e-4c87-feed-d5f7ccece773"
   },
   "outputs": [
    {
     "data": {
      "text/plain": [
       "(100000, 2)"
      ]
     },
     "execution_count": 7,
     "metadata": {},
     "output_type": "execute_result"
    }
   ],
   "source": [
    "reviews_sample.shape"
   ]
  },
  {
   "cell_type": "code",
   "execution_count": 8,
   "metadata": {
    "id": "svepbku4Shvl"
   },
   "outputs": [],
   "source": [
    "reviews_train,reviews_test = train_test_split(reviews_sample,test_size=0.20, stratify = reviews_sample['Score'],\n",
    "                                              random_state=33)"
   ]
  },
  {
   "cell_type": "code",
   "execution_count": 9,
   "metadata": {
    "colab": {
     "base_uri": "https://localhost:8080/",
     "height": 306
    },
    "id": "CjNsJ9uIShyN",
    "outputId": "d0d958c7-a8df-4e2d-e6a5-721e119c7814"
   },
   "outputs": [
    {
     "data": {
      "image/png": "[encoded data removed]",
      "text/plain": [
       "<Figure size 900x300 with 1 Axes>"
      ]
     },
     "metadata": {},
     "output_type": "display_data"
    }
   ],
   "source": [
    "#plot bar graphs of train and test Scores\n",
    "plt.figure(figsize=(9,3))\n",
    "ax = reviews_train['Score'].value_counts().plot(kind='bar',color='green')\n",
    "plt.xticks(size=8,rotation=0)\n",
    "plt.yticks(size=8)\n",
    "\n",
    "for container in ax.containers:\n",
    "    ax.bar_label(container,label_type='center',color='white')\n",
    "plt.title('Distribution of class labels - Train',size=10)    \n",
    "plt.show()"
   ]
  },
  {
   "cell_type": "code",
   "execution_count": 11,
   "metadata": {
    "colab": {
     "base_uri": "https://localhost:8080/",
     "height": 306
    },
    "id": "yoz4c7vhSh1I",
    "outputId": "677439cb-057f-44fd-c613-86a62c224b3e"
   },
   "outputs": [
    {
     "data": {
      "image/png": "[encoded data removed]",
      "text/plain": [
       "<Figure size 900x300 with 1 Axes>"
      ]
     },
     "metadata": {},
     "output_type": "display_data"
    }
   ],
   "source": [
    "plt.figure(figsize=(9,3))\n",
    "ax = reviews_test['Score'].value_counts().plot(kind='bar',color='green')\n",
    "plt.xticks(size=8,rotation=0)\n",
    "plt.yticks(size=8)\n",
    "\n",
    "for container in ax.containers:\n",
    "    ax.bar_label(container,label_type='center',color='white')\n",
    "plt.title('Distribution of class labels - Test',size=10)    \n",
    "plt.show()"
   ]
  },
  {
   "cell_type": "code",
   "execution_count": 12,
   "metadata": {
    "id": "49YGvAT3TmDt"
   },
   "outputs": [],
   "source": [
    "X_train,y_train = np.array(reviews_train['Text']), np.array(reviews_train['Score'])\n",
    "X_test,y_test   = np.array(reviews_test['Text']), np.array(reviews_test['Score'])"
   ]
  },
  {
   "cell_type": "markdown",
   "metadata": {
    "id": "CDgKXa_CTpFb"
   },
   "source": [
    "**Creating Tfidf Model**"
   ]
  },
  {
   "cell_type": "code",
   "execution_count": 13,
   "metadata": {
    "id": "EgILEaSYToXl"
   },
   "outputs": [],
   "source": [
    "tfidf_vectorizer = TfidfVectorizer(max_features=768)                # Adjust max_features based on dataset\n",
    "X_train_tfidf    = tfidf_vectorizer.fit_transform(X_train).toarray()\n",
    "X_test_tfidf     = tfidf_vectorizer.transform(X_test).toarray()"
   ]
  },
  {
   "cell_type": "code",
   "execution_count": 14,
   "metadata": {
    "colab": {
     "base_uri": "https://localhost:8080/"
    },
    "id": "6dNeCH9bUTMw",
    "outputId": "3c336804-b8e5-42c0-eb6c-fe61a7400f01"
   },
   "outputs": [
    {
     "name": "stdout",
     "output_type": "stream",
     "text": [
      "TF-IDF training data shape: (80000, 768)\n",
      "TF-IDF test data shape: (20000, 768)\n"
     ]
    }
   ],
   "source": [
    "# Print shapes to confirm\n",
    "print(f\"TF-IDF training data shape: {X_train_tfidf.shape}\")\n",
    "print(f\"TF-IDF test data shape: {X_test_tfidf.shape}\")"
   ]
  },
  {
   "cell_type": "code",
   "execution_count": 15,
   "metadata": {
    "id": "1u5ZBX5QVHvj"
   },
   "outputs": [],
   "source": [
    "y_train_cat = to_categorical(y_train,2)\n",
    "y_test_cat  = to_categorical(y_test,2)"
   ]
  },
  {
   "cell_type": "code",
   "execution_count": 16,
   "metadata": {
    "id": "vwlRK_vrYdCT"
   },
   "outputs": [],
   "source": [
    "def f1_score(y_true, y_pred):\n",
    "    y_true = tf.cast(y_true, tf.float32)\n",
    "    y_pred = tf.argmax(y_pred, axis=-1)\n",
    "    y_true = tf.argmax(y_true, axis=-1)\n",
    "\n",
    "    tp = tf.reduce_sum(tf.cast(y_true * y_pred, tf.float32))\n",
    "    fp = tf.reduce_sum(tf.cast((1 - y_true) * y_pred, tf.float32))\n",
    "    fn = tf.reduce_sum(tf.cast(y_true * (1 - y_pred), tf.float32))\n",
    "\n",
    "    precision = tp / (tp + fp + tf.keras.backend.epsilon())\n",
    "    recall = tp / (tp + fn + tf.keras.backend.epsilon())\n",
    "    f1 = 2 * (precision * recall) / (precision + recall + tf.keras.backend.epsilon())\n",
    "    return f1"
   ]
  },
  {
   "cell_type": "code",
   "execution_count": 26,
   "metadata": {},
   "outputs": [
    {
     "name": "stdout",
     "output_type": "stream",
     "text": [
      "Model: \"Bert\"\n",
      "_________________________________________________________________\n",
      " Layer (type)                Output Shape              Param #   \n",
      "=================================================================\n",
      " input_layer (InputLayer)    [(None, 768)]             0         \n",
      "                                                                 \n",
      " Dense_1 (Dense)             (None, 128)               98432     \n",
      "                                                                 \n",
      " Dense_2 (Dense)             (None, 64)                8256      \n",
      "                                                                 \n",
      " Dense_3 (Dense)             (None, 32)                2080      \n",
      "                                                                 \n",
      " Dense_4 (Dense)             (None, 16)                528       \n",
      "                                                                 \n",
      " Dense_5 (Dense)             (None, 8)                 136       \n",
      "                                                                 \n",
      " output_layer (Dense)        (None, 2)                 18        \n",
      "                                                                 \n",
      "=================================================================\n",
      "Total params: 109,450\n",
      "Trainable params: 109,450\n",
      "Non-trainable params: 0\n",
      "_________________________________________________________________\n"
     ]
    }
   ],
   "source": [
    "input_layer    = Input(shape=(X_train_tfidf.shape[1],), name='input_layer')\n",
    "Layer1         = Dense(128, activation='relu', name = 'Dense_1')(input_layer)\n",
    "Layer2         = Dense(64, activation='relu', name = 'Dense_2')(Layer1)\n",
    "Layer3         = Dense(32, activation='relu', name = 'Dense_3')(Layer2)\n",
    "Layer4         = Dense(16, activation='relu', name = 'Dense_4')(Layer3)\n",
    "Layer5         = Dense(8, activation='relu', name = 'Dense_5')(Layer4)\n",
    "output         = Dense(2, activation='softmax', name = 'output_layer')(Layer5)\n",
    "model          = Model(inputs = input_layer, outputs=output,name='Bert')\n",
    "model.compile(optimizer = Adam(learning_rate=0.0001),loss='categorical_crossentropy',metrics=[f1_score])\n",
    "model.summary()"
   ]
  },
  {
   "cell_type": "code",
   "execution_count": 27,
   "metadata": {},
   "outputs": [
    {
     "name": "stdout",
     "output_type": "stream",
     "text": [
      "Epoch 1/50\n",
      "309/313 [============================>.] - ETA: 0s - loss: 0.4840 - f1_score: 0.9152\n",
      "Epoch 1: val_f1_score improved from -inf to 0.91513, saving model to NLP_Tfidf.h5\n",
      "313/313 [==============================] - 2s 4ms/step - loss: 0.4830 - f1_score: 0.9151 - val_loss: 0.3800 - val_f1_score: 0.9151 - lr: 1.0000e-04\n",
      "Epoch 2/50\n",
      "302/313 [===========================>..] - ETA: 0s - loss: 0.3252 - f1_score: 0.9151\n",
      "Epoch 2: val_f1_score did not improve from 0.91513\n",
      "313/313 [==============================] - 1s 3ms/step - loss: 0.3233 - f1_score: 0.9151 - val_loss: 0.2760 - val_f1_score: 0.9151 - lr: 1.0000e-04\n",
      "Epoch 3/50\n",
      "301/313 [===========================>..] - ETA: 0s - loss: 0.2619 - f1_score: 0.9267\n",
      "Epoch 3: val_f1_score improved from 0.91513 to 0.94091, saving model to NLP_Tfidf.h5\n",
      "313/313 [==============================] - 1s 3ms/step - loss: 0.2623 - f1_score: 0.9272 - val_loss: 0.2626 - val_f1_score: 0.9409 - lr: 1.0000e-04\n",
      "Epoch 4/50\n",
      "297/313 [===========================>..] - ETA: 0s - loss: 0.2529 - f1_score: 0.9435\n",
      "Epoch 4: val_f1_score improved from 0.94091 to 0.94196, saving model to NLP_Tfidf.h5\n",
      "313/313 [==============================] - 1s 3ms/step - loss: 0.2526 - f1_score: 0.9435 - val_loss: 0.2593 - val_f1_score: 0.9420 - lr: 1.0000e-04\n",
      "Epoch 5/50\n",
      "305/313 [============================>.] - ETA: 0s - loss: 0.2467 - f1_score: 0.9444\n",
      "Epoch 5: val_f1_score improved from 0.94196 to 0.94204, saving model to NLP_Tfidf.h5\n",
      "313/313 [==============================] - 1s 3ms/step - loss: 0.2469 - f1_score: 0.9443 - val_loss: 0.2565 - val_f1_score: 0.9420 - lr: 1.0000e-04\n",
      "Epoch 6/50\n",
      "296/313 [===========================>..] - ETA: 0s - loss: 0.2414 - f1_score: 0.9455\n",
      "Epoch 6: val_f1_score improved from 0.94204 to 0.94221, saving model to NLP_Tfidf.h5\n",
      "313/313 [==============================] - 1s 3ms/step - loss: 0.2408 - f1_score: 0.9456 - val_loss: 0.2524 - val_f1_score: 0.9422 - lr: 1.0000e-04\n",
      "Epoch 7/50\n",
      "312/313 [============================>.] - ETA: 0s - loss: 0.2328 - f1_score: 0.9463\n",
      "Epoch 7: val_f1_score did not improve from 0.94221\n",
      "313/313 [==============================] - 1s 3ms/step - loss: 0.2327 - f1_score: 0.9464 - val_loss: 0.2474 - val_f1_score: 0.9421 - lr: 1.0000e-04\n",
      "Epoch 8/50\n",
      "300/313 [===========================>..] - ETA: 0s - loss: 0.2251 - f1_score: 0.9474\n",
      "Epoch 8: val_f1_score improved from 0.94221 to 0.94264, saving model to NLP_Tfidf.h5\n",
      "313/313 [==============================] - 1s 3ms/step - loss: 0.2245 - f1_score: 0.9475 - val_loss: 0.2430 - val_f1_score: 0.9426 - lr: 1.0000e-04\n",
      "Epoch 9/50\n",
      "309/313 [============================>.] - ETA: 0s - loss: 0.2180 - f1_score: 0.9489\n",
      "Epoch 9: val_f1_score did not improve from 0.94264\n",
      "313/313 [==============================] - 1s 3ms/step - loss: 0.2179 - f1_score: 0.9490 - val_loss: 0.2408 - val_f1_score: 0.9423 - lr: 1.0000e-04\n",
      "Epoch 10/50\n",
      "298/313 [===========================>..] - ETA: 0s - loss: 0.2126 - f1_score: 0.9505\n",
      "Epoch 10: val_f1_score improved from 0.94264 to 0.94293, saving model to NLP_Tfidf.h5\n",
      "313/313 [==============================] - 1s 3ms/step - loss: 0.2122 - f1_score: 0.9505 - val_loss: 0.2393 - val_f1_score: 0.9429 - lr: 1.0000e-04\n",
      "Epoch 11/50\n",
      "310/313 [============================>.] - ETA: 0s - loss: 0.2066 - f1_score: 0.9523\n",
      "Epoch 11: val_f1_score improved from 0.94293 to 0.94417, saving model to NLP_Tfidf.h5\n",
      "313/313 [==============================] - 1s 3ms/step - loss: 0.2068 - f1_score: 0.9522 - val_loss: 0.2383 - val_f1_score: 0.9442 - lr: 1.0000e-04\n",
      "Epoch 12/50\n",
      "296/313 [===========================>..] - ETA: 0s - loss: 0.2008 - f1_score: 0.9541\n",
      "Epoch 12: val_f1_score improved from 0.94417 to 0.94432, saving model to NLP_Tfidf.h5\n",
      "313/313 [==============================] - 1s 3ms/step - loss: 0.2009 - f1_score: 0.9540 - val_loss: 0.2375 - val_f1_score: 0.9443 - lr: 1.0000e-04\n",
      "Epoch 13/50\n",
      "304/313 [============================>.] - ETA: 0s - loss: 0.1943 - f1_score: 0.9561\n",
      "Epoch 13: val_f1_score improved from 0.94432 to 0.94493, saving model to NLP_Tfidf.h5\n",
      "313/313 [==============================] - 1s 3ms/step - loss: 0.1942 - f1_score: 0.9561 - val_loss: 0.2370 - val_f1_score: 0.9449 - lr: 1.0000e-04\n",
      "Epoch 14/50\n",
      "298/313 [===========================>..] - ETA: 0s - loss: 0.1871 - f1_score: 0.9585\n",
      "Epoch 14: val_f1_score improved from 0.94493 to 0.94639, saving model to NLP_Tfidf.h5\n",
      "313/313 [==============================] - 1s 3ms/step - loss: 0.1867 - f1_score: 0.9585 - val_loss: 0.2378 - val_f1_score: 0.9464 - lr: 1.0000e-04\n",
      "Epoch 15/50\n",
      "311/313 [============================>.] - ETA: 0s - loss: 0.1778 - f1_score: 0.9611\n",
      "Epoch 15: val_f1_score improved from 0.94639 to 0.94645, saving model to NLP_Tfidf.h5\n",
      "313/313 [==============================] - 1s 3ms/step - loss: 0.1779 - f1_score: 0.9610 - val_loss: 0.2371 - val_f1_score: 0.9465 - lr: 1.0000e-04\n",
      "Epoch 16/50\n",
      "304/313 [============================>.] - ETA: 0s - loss: 0.1685 - f1_score: 0.9637\n",
      "Epoch 16: val_f1_score did not improve from 0.94645\n",
      "\n",
      "Epoch 16: ReduceLROnPlateau reducing learning rate to 9.999999747378752e-06.\n",
      "313/313 [==============================] - 1s 3ms/step - loss: 0.1684 - f1_score: 0.9638 - val_loss: 0.2384 - val_f1_score: 0.9447 - lr: 1.0000e-04\n",
      "Epoch 17/50\n",
      "307/313 [============================>.] - ETA: 0s - loss: 0.1571 - f1_score: 0.9673\n",
      "Epoch 17: val_f1_score did not improve from 0.94645\n",
      "313/313 [==============================] - 1s 3ms/step - loss: 0.1568 - f1_score: 0.9673 - val_loss: 0.2385 - val_f1_score: 0.9457 - lr: 1.0000e-05\n",
      "Epoch 18/50\n",
      "311/313 [============================>.] - ETA: 0s - loss: 0.1553 - f1_score: 0.9679\n",
      "Epoch 18: val_f1_score did not improve from 0.94645\n",
      "\n",
      "Epoch 18: ReduceLROnPlateau reducing learning rate to 9.999999747378752e-07.\n",
      "313/313 [==============================] - 1s 3ms/step - loss: 0.1554 - f1_score: 0.9678 - val_loss: 0.2389 - val_f1_score: 0.9462 - lr: 1.0000e-05\n",
      "Epoch 18: early stopping\n"
     ]
    },
    {
     "data": {
      "text/plain": [
       "<keras.callbacks.History at 0x1fcf37336c8>"
      ]
     },
     "execution_count": 27,
     "metadata": {},
     "output_type": "execute_result"
    }
   ],
   "source": [
    "es        = EarlyStopping(monitor='val_f1_score', mode='max', verbose=1, patience=3)\n",
    "mc        = ModelCheckpoint('NLP_Tfidf.h5', monitor='val_f1_score', mode='max', save_best_only=True, verbose=1)\n",
    "reduce_lr = ReduceLROnPlateau(monitor='val_f1_score', mode='max', factor=0.1, patience=2, verbose=1)\n",
    "model.fit(X_train_tfidf,y_train_cat, epochs=50, batch_size=256,\n",
    "          validation_data = (X_test_tfidf,y_test_cat),\n",
    "          callbacks = [es, mc, reduce_lr])"
   ]
  },
  {
   "cell_type": "code",
   "execution_count": 28,
   "metadata": {
    "colab": {
     "base_uri": "https://localhost:8080/",
     "height": 425
    },
    "id": "HioIuDNUVFg5",
    "outputId": "27c45cfc-b895-4bd7-e258-8575fba3e979"
   },
   "outputs": [
    {
     "data": {
      "image/png": "[encoded data removed]",
      "text/plain": [
       "<Figure size 1400x500 with 2 Axes>"
      ]
     },
     "metadata": {},
     "output_type": "display_data"
    }
   ],
   "source": [
    "# Create subplots\n",
    "fig, axes = plt.subplots(1, 2, figsize=(14, 5))\n",
    "\n",
    "# Plot training and validation loss\n",
    "axes[0].plot(model.history.history['loss'], label='Train Loss')\n",
    "axes[0].plot(model.history.history['val_loss'], label='Validation Loss')\n",
    "axes[0].set_title('Loss')\n",
    "axes[0].set_xlabel('Epochs')\n",
    "axes[0].set_ylabel('Loss')\n",
    "axes[0].legend()\n",
    "axes[0].grid(True)\n",
    "\n",
    "# Plot training and validation AUC\n",
    "if 'f1_score' in model.history.history:\n",
    "    axes[1].plot(model.history.history['f1_score'], label='Train F1')\n",
    "    axes[1].plot(model.history.history['val_f1_score'], label='Validation F1')\n",
    "    axes[1].set_title('F1 Score')\n",
    "    axes[1].set_xlabel('Epochs')\n",
    "    axes[1].set_ylabel('F1 Score')\n",
    "    axes[1].legend()\n",
    "    axes[1].grid(True)\n",
    "\n",
    "# Adjust layout and show\n",
    "plt.tight_layout()\n",
    "plt.show()"
   ]
  },
  {
   "cell_type": "code",
   "execution_count": null,
   "metadata": {},
   "outputs": [],
   "source": []
  }
 ],
 "metadata": {
  "colab": {
   "provenance": []
  },
  "kernelspec": {
   "display_name": "Python 3 (ipykernel)",
   "language": "python",
   "name": "python3"
  },
  "language_info": {
   "codemirror_mode": {
    "name": "ipython",
    "version": 3
   },
   "file_extension": ".py",
   "mimetype": "text/x-python",
   "name": "python",
   "nbconvert_exporter": "python",
   "pygments_lexer": "ipython3",
   "version": "3.7.16"
  }
 },
 "nbformat": 4,
 "nbformat_minor": 4
}
