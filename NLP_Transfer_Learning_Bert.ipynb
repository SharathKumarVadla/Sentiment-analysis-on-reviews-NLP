{
 "cells": [
  {
   "cell_type": "code",
   "execution_count": 46,
   "metadata": {
    "id": "C2bwNMG16eBz"
   },
   "outputs": [],
   "source": [
    "import tensorflow as tf\n",
    "import tensorflow_hub as hub\n",
    "from tensorflow.keras.layers import Input, Dense, Dropout\n",
    "from tensorflow.keras.models import Model\n",
    "import numpy as np\n",
    "import pandas as pd\n",
    "import matplotlib.pyplot as plt\n",
    "from sklearn.model_selection import train_test_split\n",
    "from tensorflow.keras.callbacks import ModelCheckpoint, EarlyStopping, ReduceLROnPlateau\n",
    "from tensorflow.keras.optimizers import Adam\n",
    "from transformers import BertTokenizer\n",
    "from tensorflow.keras.utils import to_categorical\n",
    "import pickle\n",
    "import warnings\n",
    "warnings.filterwarnings(\"ignore\")"
   ]
  },
  {
   "cell_type": "code",
   "execution_count": 47,
   "metadata": {
    "colab": {
     "base_uri": "https://localhost:8080/",
     "height": 206
    },
    "id": "A1qZQnnH7Dfo",
    "outputId": "a55bdf24-cd1a-459b-9e96-3f536dec11b6"
   },
   "outputs": [
    {
     "data": {
      "text/html": [
       "<div>\n",
       "<style scoped>\n",
       "    .dataframe tbody tr th:only-of-type {\n",
       "        vertical-align: middle;\n",
       "    }\n",
       "\n",
       "    .dataframe tbody tr th {\n",
       "        vertical-align: top;\n",
       "    }\n",
       "\n",
       "    .dataframe thead th {\n",
       "        text-align: right;\n",
       "    }\n",
       "</style>\n",
       "<table border=\"1\" class=\"dataframe\">\n",
       "  <thead>\n",
       "    <tr style=\"text-align: right;\">\n",
       "      <th></th>\n",
       "      <th>Text</th>\n",
       "      <th>Score</th>\n",
       "    </tr>\n",
       "  </thead>\n",
       "  <tbody>\n",
       "    <tr>\n",
       "      <th>0</th>\n",
       "      <td>bought several vitality canned dog food produc...</td>\n",
       "      <td>1</td>\n",
       "    </tr>\n",
       "    <tr>\n",
       "      <th>1</th>\n",
       "      <td>product arrived labeled jumbo salted peanuts p...</td>\n",
       "      <td>0</td>\n",
       "    </tr>\n",
       "    <tr>\n",
       "      <th>2</th>\n",
       "      <td>confection around centuries light pillowy citr...</td>\n",
       "      <td>1</td>\n",
       "    </tr>\n",
       "    <tr>\n",
       "      <th>3</th>\n",
       "      <td>looking secret ingredient robitussin believe f...</td>\n",
       "      <td>0</td>\n",
       "    </tr>\n",
       "    <tr>\n",
       "      <th>4</th>\n",
       "      <td>great taffy great price wide assortment yummy ...</td>\n",
       "      <td>1</td>\n",
       "    </tr>\n",
       "  </tbody>\n",
       "</table>\n",
       "</div>"
      ],
      "text/plain": [
       "                                                Text  Score\n",
       "0  bought several vitality canned dog food produc...      1\n",
       "1  product arrived labeled jumbo salted peanuts p...      0\n",
       "2  confection around centuries light pillowy citr...      1\n",
       "3  looking secret ingredient robitussin believe f...      0\n",
       "4  great taffy great price wide assortment yummy ...      1"
      ]
     },
     "execution_count": 47,
     "metadata": {},
     "output_type": "execute_result"
    }
   ],
   "source": [
    "reviews = pd.read_csv('preprocessed.csv')\n",
    "reviews.head()"
   ]
  },
  {
   "cell_type": "code",
   "execution_count": 48,
   "metadata": {},
   "outputs": [
    {
     "data": {
      "text/plain": [
       "Text      True\n",
       "Score    False\n",
       "dtype: bool"
      ]
     },
     "execution_count": 48,
     "metadata": {},
     "output_type": "execute_result"
    }
   ],
   "source": [
    "# Check if there are any null values in each column\n",
    "reviews.isna().any()"
   ]
  },
  {
   "cell_type": "code",
   "execution_count": 49,
   "metadata": {},
   "outputs": [],
   "source": [
    "# Drop any rows from the 'reviews' DataFrame that contain missing (NaN) values.\n",
    "reviews.dropna(axis=0,inplace=True)"
   ]
  },
  {
   "cell_type": "code",
   "execution_count": 50,
   "metadata": {},
   "outputs": [
    {
     "data": {
      "text/plain": [
       "Text     False\n",
       "Score    False\n",
       "dtype: bool"
      ]
     },
     "execution_count": 50,
     "metadata": {},
     "output_type": "execute_result"
    }
   ],
   "source": [
    "# Check if there are any null values in each column\n",
    "reviews.isna().any()"
   ]
  },
  {
   "cell_type": "code",
   "execution_count": 52,
   "metadata": {},
   "outputs": [
    {
     "data": {
      "text/html": [
       "<div>\n",
       "<style scoped>\n",
       "    .dataframe tbody tr th:only-of-type {\n",
       "        vertical-align: middle;\n",
       "    }\n",
       "\n",
       "    .dataframe tbody tr th {\n",
       "        vertical-align: top;\n",
       "    }\n",
       "\n",
       "    .dataframe thead th {\n",
       "        text-align: right;\n",
       "    }\n",
       "</style>\n",
       "<table border=\"1\" class=\"dataframe\">\n",
       "  <thead>\n",
       "    <tr style=\"text-align: right;\">\n",
       "      <th></th>\n",
       "      <th>Text</th>\n",
       "      <th>Score</th>\n",
       "    </tr>\n",
       "  </thead>\n",
       "  <tbody>\n",
       "    <tr>\n",
       "      <th>0</th>\n",
       "      <td>tried ine beets bannans peter rabbits squash o...</td>\n",
       "      <td>1</td>\n",
       "    </tr>\n",
       "    <tr>\n",
       "      <th>1</th>\n",
       "      <td>love cake mix mixes well incredible amazon off...</td>\n",
       "      <td>1</td>\n",
       "    </tr>\n",
       "    <tr>\n",
       "      <th>2</th>\n",
       "      <td>best k cup found hands rich bold deep flavor a...</td>\n",
       "      <td>1</td>\n",
       "    </tr>\n",
       "    <tr>\n",
       "      <th>3</th>\n",
       "      <td>new favorite always fan salt vinegar honey dij...</td>\n",
       "      <td>1</td>\n",
       "    </tr>\n",
       "    <tr>\n",
       "      <th>4</th>\n",
       "      <td>product win win win healthy snack dog affordab...</td>\n",
       "      <td>1</td>\n",
       "    </tr>\n",
       "  </tbody>\n",
       "</table>\n",
       "</div>"
      ],
      "text/plain": [
       "                                                Text  Score\n",
       "0  tried ine beets bannans peter rabbits squash o...      1\n",
       "1  love cake mix mixes well incredible amazon off...      1\n",
       "2  best k cup found hands rich bold deep flavor a...      1\n",
       "3  new favorite always fan salt vinegar honey dij...      1\n",
       "4  product win win win healthy snack dog affordab...      1"
      ]
     },
     "execution_count": 52,
     "metadata": {},
     "output_type": "execute_result"
    }
   ],
   "source": [
    "# Randomly sample 100,000 rows from the 'reviews' DataFrame,\n",
    "reviews_sample = reviews.sample(100000,random_state=42).reset_index(drop=True)\n",
    "reviews_sample.head()"
   ]
  },
  {
   "cell_type": "code",
   "execution_count": 53,
   "metadata": {
    "colab": {
     "base_uri": "https://localhost:8080/"
    },
    "id": "DMKMiYH9KNFK",
    "outputId": "f0a577e3-3e60-4b0f-fb0a-f3c648cd9117"
   },
   "outputs": [
    {
     "data": {
      "text/plain": [
       "(100000, 2)"
      ]
     },
     "execution_count": 53,
     "metadata": {},
     "output_type": "execute_result"
    }
   ],
   "source": [
    "reviews_sample.shape"
   ]
  },
  {
   "cell_type": "code",
   "execution_count": 54,
   "metadata": {
    "id": "N3sTOI6V7Mr8"
   },
   "outputs": [],
   "source": [
    "# Split the dataset into train and test in the ratio of 80:20 respectively.\n",
    "reviews_train,reviews_test = train_test_split(reviews_sample,test_size=0.20, stratify = reviews_sample['Score'],\n",
    "                                              random_state=33)"
   ]
  },
  {
   "cell_type": "code",
   "execution_count": 55,
   "metadata": {
    "colab": {
     "base_uri": "https://localhost:8080/",
     "height": 306
    },
    "id": "qL28MhzP9Zqc",
    "outputId": "485cd2fa-545c-40d2-e1db-1e5d416f4141"
   },
   "outputs": [
    {
     "data": {
      "image/png": "[encoded data removed]",
      "text/plain": [
       "<Figure size 900x300 with 1 Axes>"
      ]
     },
     "metadata": {},
     "output_type": "display_data"
    }
   ],
   "source": [
    "# Plot bar graphs of train and test label distributions\n",
    "plt.figure(figsize=(9,3))\n",
    "ax = reviews_train['Score'].value_counts().plot(kind='bar',color='green')\n",
    "plt.xticks(size=8,rotation=0)\n",
    "plt.yticks(size=8)\n",
    "\n",
    "for container in ax.containers:\n",
    "    ax.bar_label(container,label_type='center',color='white')\n",
    "plt.title('Distribution of class labels - Train',size=10)    \n",
    "plt.show()"
   ]
  },
  {
   "cell_type": "code",
   "execution_count": 56,
   "metadata": {
    "colab": {
     "base_uri": "https://localhost:8080/",
     "height": 306
    },
    "id": "f14aVqc-CUHJ",
    "outputId": "9b5736b6-87a0-424d-97d7-b935245480cd"
   },
   "outputs": [
    {
     "data": {
      "image/png": "[encoded data removed]",
      "text/plain": [
       "<Figure size 900x300 with 1 Axes>"
      ]
     },
     "metadata": {},
     "output_type": "display_data"
    }
   ],
   "source": [
    "plt.figure(figsize=(9,3))\n",
    "ax = reviews_test['Score'].value_counts().plot(kind='bar',color='green')\n",
    "plt.xticks(size=8,rotation=0)\n",
    "plt.yticks(size=8)\n",
    "\n",
    "for container in ax.containers:\n",
    "    ax.bar_label(container,label_type='center',color='white')\n",
    "plt.title('Distribution of class labels - Test',size=10)    \n",
    "plt.show()"
   ]
  },
  {
   "cell_type": "code",
   "execution_count": 57,
   "metadata": {
    "id": "52fkNNhWEHT0"
   },
   "outputs": [],
   "source": [
    "X_train,y_train = np.array(reviews_train['Text']), np.array(reviews_train['Score'])\n",
    "X_test,y_test   = np.array(reviews_test['Text']), np.array(reviews_test['Score'])"
   ]
  },
  {
   "cell_type": "markdown",
   "metadata": {
    "id": "TLFZ9PFNC05j"
   },
   "source": [
    "**Creating BERT Model**"
   ]
  },
  {
   "cell_type": "code",
   "execution_count": 58,
   "metadata": {
    "id": "kX2G8bU3CwYj"
   },
   "outputs": [],
   "source": [
    "# Set the maximum sequence length for input text.\n",
    "max_seq_length = 128 \n",
    "\n",
    "# Bert takes 3 inputs\n",
    "# 1. Input words: Sequence of words represented as integers\n",
    "input_word_ids = Input(shape=(max_seq_length,), dtype=tf.int32, name=\"input_word_ids\")\n",
    "# 2. Input mask: A mask vector that indicates the positions of padding (if any).\n",
    "# If a word is padded, the mask value will be 0 for that position, else it will be 1.\n",
    "input_mask = Input(shape=(max_seq_length,), dtype=tf.int32, name=\"input_mask\")\n",
    "# 3. Segment IDs: Segment vectors are used when providing two sentences for classification.\n",
    "# The first sentence's segment vector will be all zeros, and the second sentence's segment vector will be all ones.\n",
    "# If you are using a single sentence, all segment values will be zero.\n",
    "segment_ids = Input(shape=(max_seq_length,), dtype=tf.int32, name=\"segment_ids\")\n",
    "\n",
    "# # Load the BERT model from TensorFlow Hub. This is a pre-trained BERT model.\n",
    "# The BERT model URL points to a specific version of BERT (uncased, 12 layers, 768 hidden units).\n",
    "bert_model_url = \"https://tfhub.dev/tensorflow/bert_en_uncased_L-12_H-768_A-12/2\"\n",
    "# Create a KerasLayer with the pre-trained BERT model. The model is set to non-trainable (trainable=False).\n",
    "# This will allow us to use the model as-is without fine-tuning it, though fine-tuning is also possible.\n",
    "bert_layer     = hub.KerasLayer(bert_model_url, trainable=False, name=\"BERT_encoder\")\n",
    "# Apply the BERT model to the input tensors. \n",
    "# The output is a tuple where the first element (index 0) is the pooled output representing the sentence.\n",
    "bert_outputs   = bert_layer([input_word_ids,input_mask,segment_ids])\n",
    "# Pooled output: BERT generates a pooled output for sentence-level representation.\n",
    "# This output is typically used for tasks like classification, where you want a fixed-size vector representing the entire sentence.\n",
    "pooled_output  = bert_outputs[0] \n",
    "# Create a Keras model that takes the three inputs and outputs the pooled output.\n",
    "bert_model     = Model(inputs=[input_word_ids,input_mask,segment_ids], outputs=pooled_output, name=\"BERT_Classifier\")"
   ]
  },
  {
   "cell_type": "code",
   "execution_count": 59,
   "metadata": {
    "colab": {
     "base_uri": "https://localhost:8080/"
    },
    "id": "2epRPR5EN3We",
    "outputId": "4174620e-b877-4491-825f-1031f4922b11"
   },
   "outputs": [
    {
     "name": "stdout",
     "output_type": "stream",
     "text": [
      "Model: \"BERT_Classifier\"\n",
      "____________________________________________________________________________________________________________________________________________\n",
      " Layer (type)                                 Output Shape                   Param #         Connected to                                   \n",
      "============================================================================================================================================\n",
      " input_word_ids (InputLayer)                  [(None, 128)]                  0               []                                             \n",
      "                                                                                                                                            \n",
      " input_mask (InputLayer)                      [(None, 128)]                  0               []                                             \n",
      "                                                                                                                                            \n",
      " segment_ids (InputLayer)                     [(None, 128)]                  0               []                                             \n",
      "                                                                                                                                            \n",
      " BERT_encoder (KerasLayer)                    [(None, 768),                  109482241       ['input_word_ids[0][0]',                       \n",
      "                                               (None, 128, 768)]                              'input_mask[0][0]',                           \n",
      "                                                                                              'segment_ids[0][0]']                          \n",
      "                                                                                                                                            \n",
      "============================================================================================================================================\n",
      "Total params: 109,482,241\n",
      "Trainable params: 0\n",
      "Non-trainable params: 109,482,241\n",
      "____________________________________________________________________________________________________________________________________________\n"
     ]
    }
   ],
   "source": [
    "bert_model.summary(line_length=140)"
   ]
  },
  {
   "cell_type": "markdown",
   "metadata": {
    "id": "IniNBO4ZA0Zg"
   },
   "source": [
    "**Tokenization**"
   ]
  },
  {
   "cell_type": "code",
   "execution_count": 60,
   "metadata": {
    "id": "-JIIcbfQAcKr"
   },
   "outputs": [],
   "source": [
    "# Retrieve the path to the vocabulary file used by the BERT model.\n",
    "# This file contains the vocabulary (token-to-id mapping) for the BERT model.\n",
    "vocab_file    = bert_layer.resolved_object.vocab_file.asset_path.numpy().decode('utf-8')\n",
    "# Check whether the BERT model is case-sensitive or not.\n",
    "# The 'do_lower_case' flag indicates whether the model was trained on lowercased text.\n",
    "do_lower_case = bert_layer.resolved_object.do_lower_case.numpy()"
   ]
  },
  {
   "cell_type": "code",
   "execution_count": 61,
   "metadata": {
    "id": "9QOnaWl0AcNQ"
   },
   "outputs": [],
   "source": [
    "# Load the BERT tokenizer using the pre-trained vocabulary file and lowercasing setting.\n",
    "# The tokenizer converts text into tokens (words or subwords) that the BERT model can understand.\n",
    "tokenizer    = BertTokenizer.from_pretrained(vocab_file, do_lower_case=do_lower_case)"
   ]
  },
  {
   "cell_type": "code",
   "execution_count": 62,
   "metadata": {
    "id": "BNMrI6ArAcRs"
   },
   "outputs": [],
   "source": [
    "# Tokenize the text data in the training set (X_train) and test set (X_test)\n",
    "# The tokenizer adds special tokens '[CLS]' and '[SEP]' to each sentence as per BERT's input format.\n",
    "# '[CLS]' is the classification token added at the beginning of the sentence, and '[SEP]' is the separator token added at the end.\n",
    "\n",
    "# Tokenize the training set texts and append '[CLS]' at the beginning and '[SEP]' at the end of each tokenized sentence.\n",
    "X_train_tokens = list(map(lambda t: ['[CLS]'] + tokenizer.tokenize(t) + ['[SEP]'], X_train))\n",
    "\n",
    "# Tokenize the test set texts similarly by adding '[CLS]' and '[SEP]' tokens to each sentence.\n",
    "X_test_tokens  = list(map(lambda t: ['[CLS]'] + tokenizer.tokenize(t) + ['[SEP]'], X_test))"
   ]
  },
  {
   "cell_type": "code",
   "execution_count": 63,
   "metadata": {
    "id": "3Q5ZGU1QFBJS"
   },
   "outputs": [],
   "source": [
    "# Adjust the tokenized sentences in the train and test sets to ensure each sentence has a length of 'max_seq_length'.\n",
    "# If a sentence is shorter than the maximum length, pad it with '[PAD]' tokens.\n",
    "# If a sentence is longer, truncate it to 'max_seq_length' and ensure it ends with '[SEP]'.\n",
    "\n",
    "for i in range(len(X_train_tokens)):\n",
    "  offby = max_seq_length - len(X_train_tokens[i])\n",
    "  if offby>0:\n",
    "    X_train_tokens[i] = np.array(X_train_tokens[i] + ['[PAD]']*offby)\n",
    "  else:\n",
    "    X_train_tokens[i] = np.array(X_train_tokens[i][:max_seq_length-1] + [\"[SEP]\"])"
   ]
  },
  {
   "cell_type": "code",
   "execution_count": 64,
   "metadata": {
    "id": "tDnj93qYFBLv"
   },
   "outputs": [],
   "source": [
    "for i in range(len(X_test_tokens)):\n",
    "  offby = max_seq_length - len(X_test_tokens[i])\n",
    "  if offby>0:\n",
    "    X_test_tokens[i] = np.array(X_test_tokens[i] + ['[PAD]']*offby)\n",
    "  else:\n",
    "    X_test_tokens[i] = np.array(X_test_tokens[i][:max_seq_length-1] + [\"[SEP]\"])"
   ]
  },
  {
   "cell_type": "code",
   "execution_count": 65,
   "metadata": {
    "id": "no9ZIhNsFBOg"
   },
   "outputs": [],
   "source": [
    "# Convert the tokenized sentences (X_train_tokens and X_test_tokens) into their corresponding token IDs.\n",
    "# BERT models require input in the form of token IDs, which are integers representing each token in the vocabulary.\n",
    "\n",
    "# Convert the list of tokens in the training set (X_train_tokens) into token IDs using the tokenizer.\n",
    "train_tokens = np.array(list(map(tokenizer.convert_tokens_to_ids, X_train_tokens)))\n",
    "\n",
    "# Convert the list of tokens in the test set (X_test_tokens) into token IDs using the tokenizer.\n",
    "test_tokens  = np.array(list(map(tokenizer.convert_tokens_to_ids, X_test_tokens)))"
   ]
  },
  {
   "cell_type": "code",
   "execution_count": 66,
   "metadata": {
    "id": "nfL6G63XHxxh"
   },
   "outputs": [],
   "source": [
    "# Create attention masks for the training and test datasets.\n",
    "# Attention masks are used to indicate which tokens should be attended to by the model \n",
    "# and which should be ignored (e.g., padding tokens are ignored).\n",
    "# The mask is a binary array where 1 means the token is real (not padding), and 0 means the token is padding.\n",
    "\n",
    "# Initialize masks for training and test data with zeros (assumes padding tokens are represented by 0).\n",
    "train_masks = np.zeros((train_tokens.shape[0], max_seq_length))\n",
    "test_masks  = np.zeros((test_tokens.shape[0], max_seq_length))\n",
    "\n",
    "# Generate attention masks for the training dataset (train_tokens).\n",
    "# Iterate over each sentence in the training set and mark non-padding tokens as 1.\n",
    "for k in range(len(train_tokens)):\n",
    "    for j in range(len(train_tokens[k])):\n",
    "        if train_tokens[k][j] != 0:  # If the token is not padding (ID 0)\n",
    "            train_masks[k][j] = 1      # Mark the token as attended (1)\n",
    "\n",
    "# Generate attention masks for the test dataset (test_tokens).\n",
    "# Iterate over each sentence in the test set and mark non-padding tokens as 1.\n",
    "for m in range(len(test_tokens)):\n",
    "    for l in range(len(test_tokens[m])):\n",
    "        if test_tokens[m][l] != 0:  # If the token is not padding (ID 0)\n",
    "            test_masks[m][l] = 1      # Mark the token as attended (1)"
   ]
  },
  {
   "cell_type": "code",
   "execution_count": 67,
   "metadata": {
    "id": "KQ7j2yiBHxzx"
   },
   "outputs": [],
   "source": [
    "# Create segment IDs for the training and test datasets.\n",
    "# Segment IDs are used to indicate which sentence a token belongs to in the case of sentence-pair inputs.\n",
    "# BERT uses segment IDs to distinguish between sentence A and sentence B in tasks like Question Answering.\n",
    "# For single sentence inputs, all tokens are assigned a segment ID of 0.\n",
    "\n",
    "# Initialize segment IDs for training and test data with zeros.\n",
    "# The segment ID array has the same shape as the token arrays (number of samples, max_seq_length).\n",
    "\n",
    "train_segments = np.zeros((train_tokens.shape[0],train_tokens.shape[1]))\n",
    "test_segments  = np.zeros((test_tokens.shape[0],test_tokens.shape[1]))"
   ]
  },
  {
   "cell_type": "markdown",
   "metadata": {
    "id": "Au5Z-HmVIgph"
   },
   "source": [
    "**Getting Embeddings from BERT Model**"
   ]
  },
  {
   "cell_type": "code",
   "execution_count": 68,
   "metadata": {
    "colab": {
     "base_uri": "https://localhost:8080/"
    },
    "id": "LuOAXKg8INZN",
    "outputId": "403fd614-16dc-4882-9a18-af25d4495c31"
   },
   "outputs": [
    {
     "name": "stdout",
     "output_type": "stream",
     "text": [
      "2500/2500 [==============================] - 6800s 3s/step\n",
      "625/625 [==============================] - 1770s 3s/step\n"
     ]
    }
   ],
   "source": [
    "# Generate the pooled output for the training set using the BERT model.\n",
    "# The pooled output captures the sentence-level representation for each sample in the training set.\n",
    "X_train_pooled_output = bert_model.predict([train_tokens, train_masks, train_segments])\n",
    "\n",
    "# Generate the pooled output for the test set using the BERT model.\n",
    "# The pooled output captures the sentence-level representation for each sample in the test set.\n",
    "X_test_pooled_output  = bert_model.predict([test_tokens, test_masks, test_segments])"
   ]
  },
  {
   "cell_type": "code",
   "execution_count": 69,
   "metadata": {
    "id": "_tl-EokDINbp"
   },
   "outputs": [],
   "source": [
    "# Convert the train and test labels into a binary matrix (one-hot encoding) with 2 classes (0 and 1).\n",
    "# '2' is the number of classes for classification (binary classification).\n",
    "y_train_cat = to_categorical(y_train,2)\n",
    "y_test_cat  = to_categorical(y_test,2)"
   ]
  },
  {
   "cell_type": "code",
   "execution_count": 70,
   "metadata": {
    "id": "Cn3D9PPRJEib"
   },
   "outputs": [],
   "source": [
    "pickle.dump((X_train_pooled_output, X_test_pooled_output),open('final_output.pkl','wb'))\n",
    "pickle.dump((y_train_cat,y_test_cat),open('final_labels.pkl','wb'))"
   ]
  },
  {
   "cell_type": "code",
   "execution_count": 71,
   "metadata": {
    "id": "4oss3EXFa2TH"
   },
   "outputs": [],
   "source": [
    "X_train_pooled_output, X_test_pooled_output = pickle.load(open('final_output.pkl','rb'))\n",
    "y_train_cat,y_test_cat = pickle.load(open('final_labels.pkl','rb'))"
   ]
  },
  {
   "cell_type": "code",
   "execution_count": 72,
   "metadata": {
    "id": "CC5vWqAibIKT"
   },
   "outputs": [],
   "source": [
    "# Function to find the f1 score.\n",
    "def f1_score(y_true, y_pred):\n",
    "    y_true = tf.cast(y_true, tf.float32)\n",
    "    y_pred = tf.argmax(y_pred, axis=-1)\n",
    "    y_true = tf.argmax(y_true, axis=-1)\n",
    "\n",
    "    tp = tf.reduce_sum(tf.cast(y_true * y_pred, tf.float32))\n",
    "    fp = tf.reduce_sum(tf.cast((1 - y_true) * y_pred, tf.float32))\n",
    "    fn = tf.reduce_sum(tf.cast(y_true * (1 - y_pred), tf.float32))\n",
    "\n",
    "    precision = tp / (tp + fp + tf.keras.backend.epsilon())\n",
    "    recall = tp / (tp + fn + tf.keras.backend.epsilon())\n",
    "    f1 = 2 * (precision * recall) / (precision + recall + tf.keras.backend.epsilon())\n",
    "    return f1"
   ]
  },
  {
   "cell_type": "code",
   "execution_count": 82,
   "metadata": {
    "colab": {
     "base_uri": "https://localhost:8080/"
    },
    "id": "SmDZQK0-JEk2",
    "outputId": "ecad8689-8857-430d-db2a-d2f4669e0d39"
   },
   "outputs": [
    {
     "name": "stdout",
     "output_type": "stream",
     "text": [
      "Model: \"Bert\"\n",
      "_________________________________________________________________\n",
      " Layer (type)                Output Shape              Param #   \n",
      "=================================================================\n",
      " input_layer (InputLayer)    [(None, 768)]             0         \n",
      "                                                                 \n",
      " Dense_1 (Dense)             (None, 128)               98432     \n",
      "                                                                 \n",
      " Dense_2 (Dense)             (None, 64)                8256      \n",
      "                                                                 \n",
      " Dense_3 (Dense)             (None, 32)                2080      \n",
      "                                                                 \n",
      " Dense_4 (Dense)             (None, 16)                528       \n",
      "                                                                 \n",
      " Dense_5 (Dense)             (None, 8)                 136       \n",
      "                                                                 \n",
      " output_layer (Dense)        (None, 2)                 18        \n",
      "                                                                 \n",
      "=================================================================\n",
      "Total params: 109,450\n",
      "Trainable params: 109,450\n",
      "Non-trainable params: 0\n",
      "_________________________________________________________________\n"
     ]
    }
   ],
   "source": [
    "# Define a fully connected neural network (dense layers) on top of the BERT pooled output for classification.\n",
    "\n",
    "input_layer    = Input(shape=(X_train_pooled_output.shape[1],), name='input_layer')\n",
    "Layer1         = Dense(128, activation='relu', name = 'Dense_1')(input_layer)\n",
    "Layer2         = Dense(64, activation='relu', name = 'Dense_2')(Layer1)\n",
    "Layer3         = Dense(32, activation='relu', name = 'Dense_3')(Layer2)\n",
    "Layer4         = Dense(16, activation='relu', name = 'Dense_4')(Layer3)\n",
    "Layer5         = Dense(8, activation='relu', name = 'Dense_5')(Layer4)\n",
    "output         = Dense(2, activation='softmax', name = 'output_layer')(Layer5)\n",
    "model          = Model(inputs = input_layer, outputs=output,name='Bert')\n",
    "# Compile the model with:\n",
    "# - Adam optimizer with a learning rate of 0.001.\n",
    "# - Categorical cross-entropy loss function (since this is a multi-class classification problem).\n",
    "# - f1_score as a metric to evaluate the performance during training.\n",
    "model.compile(optimizer = Adam(learning_rate=0.001),loss='categorical_crossentropy',metrics=[f1_score])\n",
    "model.summary()"
   ]
  },
  {
   "cell_type": "code",
   "execution_count": 83,
   "metadata": {
    "colab": {
     "base_uri": "https://localhost:8080/"
    },
    "id": "5-h8dwS1KAaS",
    "outputId": "8359f5e5-d2a0-44ca-c3b5-481d6c6ab5ff"
   },
   "outputs": [
    {
     "name": "stdout",
     "output_type": "stream",
     "text": [
      "Epoch 1/50\n",
      "310/313 [============================>.] - ETA: 0s - loss: 0.3727 - f1_score: 0.9149\n",
      "Epoch 1: val_f1_score improved from -inf to 0.91678, saving model to NLP_Bert.h5\n",
      "313/313 [==============================] - 4s 12ms/step - loss: 0.3722 - f1_score: 0.9150 - val_loss: 0.3834 - val_f1_score: 0.9168 - lr: 0.0010\n",
      "Epoch 2/50\n",
      "307/313 [============================>.] - ETA: 0s - loss: 0.3238 - f1_score: 0.9234\n",
      "Epoch 2: val_f1_score improved from 0.91678 to 0.92350, saving model to NLP_Bert.h5\n",
      "313/313 [==============================] - 3s 10ms/step - loss: 0.3232 - f1_score: 0.9236 - val_loss: 0.3430 - val_f1_score: 0.9235 - lr: 0.0010\n",
      "Epoch 3/50\n",
      "313/313 [==============================] - ETA: 0s - loss: 0.3129 - f1_score: 0.9256\n",
      "Epoch 3: val_f1_score improved from 0.92350 to 0.92993, saving model to NLP_Bert.h5\n",
      "313/313 [==============================] - 3s 11ms/step - loss: 0.3129 - f1_score: 0.9256 - val_loss: 0.3012 - val_f1_score: 0.9299 - lr: 0.0010\n",
      "Epoch 4/50\n",
      "309/313 [============================>.] - ETA: 0s - loss: 0.3125 - f1_score: 0.9254\n",
      "Epoch 4: val_f1_score did not improve from 0.92993\n",
      "313/313 [==============================] - 3s 10ms/step - loss: 0.3123 - f1_score: 0.9256 - val_loss: 0.3141 - val_f1_score: 0.9275 - lr: 0.0010\n",
      "Epoch 5/50\n",
      "313/313 [==============================] - ETA: 0s - loss: 0.3046 - f1_score: 0.9273\n",
      "Epoch 5: val_f1_score did not improve from 0.92993\n",
      "\n",
      "Epoch 5: ReduceLROnPlateau reducing learning rate to 0.00010000000474974513.\n",
      "313/313 [==============================] - 3s 10ms/step - loss: 0.3046 - f1_score: 0.9273 - val_loss: 0.2997 - val_f1_score: 0.9292 - lr: 0.0010\n",
      "Epoch 6/50\n",
      "309/313 [============================>.] - ETA: 0s - loss: 0.2943 - f1_score: 0.9297\n",
      "Epoch 6: val_f1_score improved from 0.92993 to 0.93094, saving model to NLP_Bert.h5\n",
      "313/313 [==============================] - 3s 10ms/step - loss: 0.2942 - f1_score: 0.9298 - val_loss: 0.2970 - val_f1_score: 0.9309 - lr: 1.0000e-04\n",
      "Epoch 7/50\n",
      "310/313 [============================>.] - ETA: 0s - loss: 0.2933 - f1_score: 0.9300\n",
      "Epoch 7: val_f1_score did not improve from 0.93094\n",
      "313/313 [==============================] - 3s 10ms/step - loss: 0.2936 - f1_score: 0.9298 - val_loss: 0.2948 - val_f1_score: 0.9309 - lr: 1.0000e-04\n",
      "Epoch 8/50\n",
      "310/313 [============================>.] - ETA: 0s - loss: 0.2925 - f1_score: 0.9301\n",
      "Epoch 8: val_f1_score improved from 0.93094 to 0.93114, saving model to NLP_Bert.h5\n",
      "313/313 [==============================] - 3s 10ms/step - loss: 0.2926 - f1_score: 0.9301 - val_loss: 0.2950 - val_f1_score: 0.9311 - lr: 1.0000e-04\n",
      "Epoch 9/50\n",
      "309/313 [============================>.] - ETA: 0s - loss: 0.2928 - f1_score: 0.9301\n",
      "Epoch 9: val_f1_score improved from 0.93114 to 0.93153, saving model to NLP_Bert.h5\n",
      "313/313 [==============================] - 3s 10ms/step - loss: 0.2925 - f1_score: 0.9302 - val_loss: 0.2945 - val_f1_score: 0.9315 - lr: 1.0000e-04\n",
      "Epoch 10/50\n",
      "312/313 [============================>.] - ETA: 0s - loss: 0.2917 - f1_score: 0.9303\n",
      "Epoch 10: val_f1_score did not improve from 0.93153\n",
      "313/313 [==============================] - 3s 10ms/step - loss: 0.2917 - f1_score: 0.9303 - val_loss: 0.2938 - val_f1_score: 0.9314 - lr: 1.0000e-04\n",
      "Epoch 11/50\n",
      "313/313 [==============================] - ETA: 0s - loss: 0.2920 - f1_score: 0.9307\n",
      "Epoch 11: val_f1_score did not improve from 0.93153\n",
      "\n",
      "Epoch 11: ReduceLROnPlateau reducing learning rate to 1.0000000474974514e-05.\n",
      "313/313 [==============================] - 3s 10ms/step - loss: 0.2920 - f1_score: 0.9307 - val_loss: 0.2957 - val_f1_score: 0.9310 - lr: 1.0000e-04\n",
      "Epoch 12/50\n",
      "310/313 [============================>.] - ETA: 0s - loss: 0.2900 - f1_score: 0.9310\n",
      "Epoch 12: val_f1_score improved from 0.93153 to 0.93189, saving model to NLP_Bert.h5\n",
      "313/313 [==============================] - 3s 10ms/step - loss: 0.2900 - f1_score: 0.9311 - val_loss: 0.2932 - val_f1_score: 0.9319 - lr: 1.0000e-05\n",
      "Epoch 13/50\n",
      "308/313 [============================>.] - ETA: 0s - loss: 0.2897 - f1_score: 0.9310\n",
      "Epoch 13: val_f1_score did not improve from 0.93189\n",
      "313/313 [==============================] - 3s 11ms/step - loss: 0.2896 - f1_score: 0.9311 - val_loss: 0.2931 - val_f1_score: 0.9316 - lr: 1.0000e-05\n",
      "Epoch 14/50\n",
      "310/313 [============================>.] - ETA: 0s - loss: 0.2894 - f1_score: 0.9311\n",
      "Epoch 14: val_f1_score did not improve from 0.93189\n",
      "\n",
      "Epoch 14: ReduceLROnPlateau reducing learning rate to 1.0000000656873453e-06.\n",
      "313/313 [==============================] - 3s 10ms/step - loss: 0.2895 - f1_score: 0.9311 - val_loss: 0.2931 - val_f1_score: 0.9317 - lr: 1.0000e-05\n",
      "Epoch 15/50\n",
      "309/313 [============================>.] - ETA: 0s - loss: 0.2894 - f1_score: 0.9310\n",
      "Epoch 15: val_f1_score did not improve from 0.93189\n",
      "313/313 [==============================] - 3s 10ms/step - loss: 0.2893 - f1_score: 0.9309 - val_loss: 0.2929 - val_f1_score: 0.9317 - lr: 1.0000e-06\n",
      "Epoch 15: early stopping\n"
     ]
    },
    {
     "data": {
      "text/plain": [
       "<keras.callbacks.History at 0x1e7d1bd0e48>"
      ]
     },
     "execution_count": 83,
     "metadata": {},
     "output_type": "execute_result"
    }
   ],
   "source": [
    "es        = EarlyStopping(monitor='val_f1_score', mode='max', verbose=1, patience=3)\n",
    "mc        = ModelCheckpoint('NLP_Bert.h5', monitor='val_f1_score', mode='max', save_best_only=True, verbose=1)\n",
    "reduce_lr = ReduceLROnPlateau(monitor='val_f1_score', mode='max', factor=0.1, patience=2, verbose=1)\n",
    "# Fit the model to the training data, with the following configurations:\n",
    "# - X_train_pooled_output and y_train_cat are the input and target training data, respectively.\n",
    "# - 50 epochs and a batch size of 256 for training.\n",
    "# - Validation data is provided as (X_test_pooled_output, y_test_cat) to evaluate the model after each epoch.\n",
    "# - Callbacks (es, mc, and reduce_lr) are used to monitor and adjust training as needed.\n",
    "model.fit(X_train_pooled_output,y_train_cat, epochs=50, batch_size=256,\n",
    "          validation_data = (X_test_pooled_output,y_test_cat),\n",
    "          callbacks = [es, mc, reduce_lr])"
   ]
  },
  {
   "cell_type": "code",
   "execution_count": 84,
   "metadata": {
    "colab": {
     "base_uri": "https://localhost:8080/",
     "height": 425
    },
    "id": "BRJ6-s9BeanL",
    "outputId": "1f7acf51-25b7-4f3c-cef5-4f93e72a9ac7"
   },
   "outputs": [
    {
     "data": {
      "image/png": "[encoded data removed]",
      "text/plain": [
       "<Figure size 1400x500 with 2 Axes>"
      ]
     },
     "metadata": {},
     "output_type": "display_data"
    }
   ],
   "source": [
    "# Plotting the results obtained\n",
    "fig, axes = plt.subplots(1, 2, figsize=(14, 5))\n",
    "\n",
    "# Plot training and validation loss\n",
    "axes[0].plot(model.history.history['loss'], label='Train Loss')\n",
    "axes[0].plot(model.history.history['val_loss'], label='Validation Loss')\n",
    "axes[0].set_title('Loss')\n",
    "axes[0].set_xlabel('Epochs')\n",
    "axes[0].set_ylabel('Loss')\n",
    "axes[0].legend()\n",
    "axes[0].grid(True)\n",
    "\n",
    "# Plot training and validation AUC\n",
    "if 'f1_score' in model.history.history:\n",
    "    axes[1].plot(model.history.history['f1_score'], label='Train F1')\n",
    "    axes[1].plot(model.history.history['val_f1_score'], label='Validation F1')\n",
    "    axes[1].set_title('F1 Score')\n",
    "    axes[1].set_xlabel('Epochs')\n",
    "    axes[1].set_ylabel('F1 Score')\n",
    "    axes[1].legend()\n",
    "    axes[1].grid(True)\n",
    "\n",
    "# Adjust layout and show\n",
    "plt.tight_layout()\n",
    "plt.show()"
   ]
  }
 ],
 "metadata": {
  "accelerator": "GPU",
  "colab": {
   "gpuType": "T4",
   "provenance": []
  },
  "kernelspec": {
   "display_name": "Python 3 (ipykernel)",
   "language": "python",
   "name": "python3"
  },
  "language_info": {
   "codemirror_mode": {
    "name": "ipython",
    "version": 3
   },
   "file_extension": ".py",
   "mimetype": "text/x-python",
   "name": "python",
   "nbconvert_exporter": "python",
   "pygments_lexer": "ipython3",
   "version": "3.7.16"
  }
 },
 "nbformat": 4,
 "nbformat_minor": 4
}
